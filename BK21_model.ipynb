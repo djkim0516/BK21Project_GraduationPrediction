{
 "cells": [
  {
   "cell_type": "code",
   "execution_count": 6,
   "metadata": {},
   "outputs": [],
   "source": [
    "import lightgbm\n",
    "import glob, os\n",
    "import pandas as pd\n",
    "from sklearn.model_selection import StratifiedKFold, cross_val_score\n",
    "from sklearn.metrics import classification_report, confusion_matrix, accuracy_score"
   ]
  },
  {
   "cell_type": "markdown",
   "metadata": {},
   "source": [
    "------\n",
    "## 1. 전체 석사 졸업 예측"
   ]
  },
  {
   "cell_type": "code",
   "execution_count": 7,
   "metadata": {},
   "outputs": [
    {
     "name": "stdout",
     "output_type": "stream",
     "text": [
      "['f:\\\\OneDrive - 고려대학교\\\\내 드라이브\\\\고려대학교\\\\대학원\\\\장학금\\\\BK21 4단계 대학원 혁신 펠로우쉽 연구과제\\\\내외국인_공대_예측\\\\original_data\\\\std_info_grad_ms.csv', 'f:\\\\OneDrive - 고려대학교\\\\내 드라이브\\\\고려대학교\\\\대학원\\\\장학금\\\\BK21 4단계 대학원 혁신 펠로우쉽 연구과제\\\\내외국인_공대_예측\\\\original_data\\\\std_info_ms.csv']\n"
     ]
    }
   ],
   "source": [
    "total_ms_list = glob.glob(os.path.join(os.getcwd(), 'original_data', '*ms.csv'))\n",
    "print(total_ms_list)"
   ]
  },
  {
   "cell_type": "code",
   "execution_count": 8,
   "metadata": {},
   "outputs": [],
   "source": [
    "ms_grad = pd.read_csv(total_ms_list[0])\n",
    "ms_undergrad = pd.read_csv(total_ms_list[1])\n"
   ]
  },
  {
   "cell_type": "code",
   "execution_count": 9,
   "metadata": {},
   "outputs": [],
   "source": [
    "'''\n",
    "ms_grad.columns = \n",
    "['Unnamed: 0', 'Unnamed: 0.1', 'Unnamed: 0.1.1', '학번', '학생소속대학명',\n",
    "'학생교육부계열', '성별', '입학과정', '학적', '학과', '전공', '전공교수', 'rec014_nation_cd',\n",
    "'과정', '수료년도', '수료학기', 'rec014_birth_dt', '졸업년도', '졸업학기', 'gpa',\n",
    "'rec014_school_term', '서류점수', '면접점수', '학부출신', '대학원출신', '인건비총액']\n",
    "'''\n",
    "ms_grad.columns = ['Unnamed: 0', 'Unnamed: 0.1', 'Unnamed: 0.1.1', '학번', '학생소속대학명',        #학습 위해서 column name(rec014~) 변경\n",
    "'학생교육부계열', '성별', '입학과정', '학적', '학과', '전공', '전공교수', 'nation_cd',\n",
    "'과정', '수료년도', '수료학기', 'rec014_birth_dt', '졸업년도', '졸업학기', 'gpa',\n",
    "'school_term', '서류점수', '면접점수', '학부출신', '대학원출신', '인건비총액', '월별인건비']\n",
    "\n",
    "grad_cat_features = ['학생소속대학명', '학생교육부계열', '성별', '입학과정', '학과', 'nation_cd', '학부출신']    #범주형 데이터\n",
    "grad_num_features = ['gpa', '서류점수', '면접점수', '월별인건비']       #연속형 데이터\n",
    "grad_term = ['school_term']\n",
    "\n",
    "for i in grad_cat_features:\n",
    "    ms_grad[i] = ms_grad[i].astype('category')"
   ]
  },
  {
   "cell_type": "markdown",
   "metadata": {},
   "source": [
    "### 졸업자 정보에 대하여 Stratified 5-Fold 학습\n"
   ]
  },
  {
   "cell_type": "markdown",
   "metadata": {},
   "source": [
    "import numpy as np\n",
    "X_grad = ms_grad[grad_cat_features + grad_num_features]\n",
    "y_grad = ms_grad[grad_term]\n",
    "y_grad = y_grad[y_grad['school_term'] != 0]\n",
    "X_grad = X_grad.iloc[y_grad.index]\n"
   ]
  },
  {
   "cell_type": "markdown",
   "metadata": {},
   "source": [
    "X_grad = X_grad.dropna()\n",
    "X_grad.iloc[:,-1].astype(float)\n",
    "y_grad = ms_grad[grad_term]\n",
    "y_grad = y_grad.iloc[X_grad.index]"
   ]
  },
  {
   "cell_type": "code",
   "execution_count": 10,
   "metadata": {},
   "outputs": [
    {
     "name": "stderr",
     "output_type": "stream",
     "text": [
      "C:\\Users\\djkim\\anaconda3\\envs\\pytorch\\lib\\site-packages\\sklearn\\model_selection\\_split.py:676: UserWarning: The least populated class in y has only 1 members, which is less than n_splits=5.\n",
      "  warnings.warn(\n"
     ]
    },
    {
     "name": "stdout",
     "output_type": "stream",
     "text": [
      "Fold 0:\n",
      "               precision    recall  f1-score   support\n",
      "\n",
      "           2       1.00      0.33      0.50         3\n",
      "           3       0.50      0.33      0.40         6\n",
      "           4       0.78      0.87      0.82       590\n",
      "           5       0.37      0.34      0.35       201\n",
      "           6       0.20      0.11      0.14        62\n",
      "           7       0.25      0.15      0.19        26\n",
      "           8       0.22      0.15      0.18        13\n",
      "           9       0.00      0.00      0.00         7\n",
      "          10       0.00      0.00      0.00         3\n",
      "          11       0.00      0.00      0.00         1\n",
      "          12       0.00      0.00      0.00         3\n",
      "\n",
      "    accuracy                           0.66       915\n",
      "   macro avg       0.30      0.21      0.24       915\n",
      "weighted avg       0.61      0.66      0.63       915\n",
      "\n",
      "Fold 1:\n",
      "               precision    recall  f1-score   support\n",
      "\n",
      "           2       0.00      0.00      0.00         3\n",
      "           3       0.80      0.57      0.67         7\n",
      "           4       0.72      0.84      0.78       590\n",
      "           5       0.31      0.27      0.29       201\n",
      "           6       0.21      0.08      0.12        62\n",
      "           7       0.12      0.04      0.06        26\n",
      "           8       0.12      0.08      0.10        13\n",
      "           9       0.00      0.00      0.00         6\n",
      "          10       0.00      0.00      0.00         3\n",
      "          11       0.00      0.00      0.00         1\n",
      "          12       0.00      0.00      0.00         2\n",
      "          13       0.00      0.00      0.00         1\n",
      "\n",
      "    accuracy                           0.62       915\n",
      "   macro avg       0.19      0.16      0.17       915\n",
      "weighted avg       0.56      0.62      0.58       915\n",
      "\n",
      "Fold 2:\n",
      "               precision    recall  f1-score   support\n",
      "\n",
      "           2       0.00      0.00      0.00         4\n",
      "           3       0.67      0.67      0.67         6\n",
      "           4       0.74      0.91      0.82       591\n",
      "           5       0.45      0.28      0.34       200\n",
      "           6       0.11      0.07      0.08        61\n",
      "           7       0.00      0.00      0.00        25\n",
      "           8       0.20      0.07      0.11        14\n",
      "           9       0.00      0.00      0.00         7\n",
      "          10       0.00      0.00      0.00         3\n",
      "          11       0.00      0.00      0.00         1\n",
      "          12       0.00      0.00      0.00         2\n",
      "\n",
      "    accuracy                           0.66       914\n",
      "   macro avg       0.20      0.18      0.18       914\n",
      "weighted avg       0.59      0.66      0.62       914\n",
      "\n",
      "Fold 3:\n",
      "               precision    recall  f1-score   support\n",
      "\n",
      "           2       0.00      0.00      0.00         4\n",
      "           3       0.00      0.00      0.00         6\n",
      "           4       0.73      0.86      0.79       590\n",
      "           5       0.33      0.27      0.30       201\n",
      "           6       0.18      0.11      0.14        62\n",
      "           7       0.07      0.04      0.05        25\n",
      "           8       0.20      0.08      0.11        13\n",
      "           9       0.00      0.00      0.00         7\n",
      "          10       0.00      0.00      0.00         3\n",
      "          11       0.00      0.00      0.00         1\n",
      "          12       0.00      0.00      0.00         2\n",
      "\n",
      "    accuracy                           0.62       914\n",
      "   macro avg       0.14      0.12      0.13       914\n",
      "weighted avg       0.56      0.62      0.59       914\n",
      "\n",
      "Fold 4:\n",
      "               precision    recall  f1-score   support\n",
      "\n",
      "           2       0.00      0.00      0.00         4\n",
      "           3       1.00      0.33      0.50         6\n",
      "           4       0.72      0.94      0.82       590\n",
      "           5       0.35      0.19      0.25       201\n",
      "           6       0.24      0.08      0.12        62\n",
      "           7       0.22      0.08      0.12        25\n",
      "           8       0.00      0.00      0.00        13\n",
      "           9       0.00      0.00      0.00         7\n",
      "          10       0.00      0.00      0.00         3\n",
      "          11       0.00      0.00      0.00         1\n",
      "          12       0.00      0.00      0.00         2\n",
      "\n",
      "    accuracy                           0.66       914\n",
      "   macro avg       0.23      0.15      0.16       914\n",
      "weighted avg       0.57      0.66      0.60       914\n",
      "\n",
      "masters cross validation result :  [0.6557377049180327, 0.6163934426229508, 0.661925601750547, 0.6236323851203501, 0.6575492341356673]\n"
     ]
    }
   ],
   "source": [
    "model = lightgbm.LGBMClassifier()\n",
    "skfold = StratifiedKFold(n_splits=5)\n",
    "\n",
    "cv_accuracy = []\n",
    "\n",
    "X_grad = ms_grad[grad_cat_features + grad_num_features]\n",
    "y_grad = ms_grad[grad_term]\n",
    "y_grad = y_grad[y_grad['school_term'] != 0]\n",
    "X_grad = X_grad.iloc[y_grad.index]\n",
    "X_grad.iloc[:,-1] = X_grad.iloc[:,-1].astype(float).round(0)\n",
    "\n",
    "iter = 0\n",
    "for train_idx, test_idx in skfold.split(X_grad, y_grad):\n",
    "    # print(X_grad.iloc[train_idx])\n",
    "    # print(y_grad.iloc[test_idx])\n",
    "    model.fit(X_grad.iloc[train_idx], y_grad.iloc[train_idx].values.ravel())\n",
    "    pred = model.predict(X_grad.iloc[test_idx])\n",
    "    cv_accuracy.append(accuracy_score(y_grad.iloc[test_idx], pred))\n",
    "    print(f\"Fold {iter}:\\n\",classification_report(y_grad.iloc[test_idx], pred, zero_division=0))\n",
    "    iter += 1\n",
    "\n",
    "print(\"masters cross validation result : \", cv_accuracy)"
   ]
  },
  {
   "cell_type": "markdown",
   "metadata": {},
   "source": [
    "### 재학자에 대한 예측"
   ]
  },
  {
   "cell_type": "code",
   "execution_count": 11,
   "metadata": {},
   "outputs": [],
   "source": [
    "'''\n",
    "ms_undergrad.columns = \n",
    "['Unnamed: 0', 'Unnamed: 0.1', 'Unnamed: 0.1.1', '학번', '학생소속대학명',\n",
    "       '학생교육부계열', '성별', '입학과정', '학적', '학과', '전공', '전공교수', 'rec012_nation_cd',\n",
    "       '과정', '수료년도', '수료학기', 'rec012_birth_dt', 'gpa', 'rec012_school_term',\n",
    "       '인건비총액', '서류점수', '면접점수', '학부출신', '대학원출신']\n",
    "'''\n",
    "ms_undergrad.columns = ['Unnamed: 0', 'Unnamed: 0.1', 'Unnamed: 0.1.1', '학번', '학생소속대학명',\n",
    "       '학생교육부계열', '성별', '입학과정', '학적', '학과', '전공', '전공교수', 'nation_cd',\n",
    "       '과정', '수료년도', '수료학기', 'rec012_birth_dt', 'gpa', 'school_term',\n",
    "       '인건비총액', '서류점수', '면접점수', '학부출신', '대학원출신', '월별인건비']\n",
    "\n",
    "undergrad_cat_features = ['학생소속대학명', '학생교육부계열', '성별', '입학과정', '학과', 'nation_cd', '학부출신']    #범주형 데이터\n",
    "undergrad_num_features = ['gpa', '서류점수', '면접점수', '월별인건비']       #연속형 데이터\n",
    "undergrad_term = ['school_term']\n",
    "\n",
    "for i in undergrad_cat_features:\n",
    "    ms_undergrad[i] = ms_undergrad[i].astype('category')\n",
    "\n",
    "X_undergrad = ms_undergrad[undergrad_cat_features + undergrad_num_features]\n",
    "\n",
    "y_undergrad = pd.DataFrame(model.predict(X_undergrad))"
   ]
  },
  {
   "cell_type": "code",
   "execution_count": 12,
   "metadata": {},
   "outputs": [],
   "source": [
    "ms_undergrad['predicted_school_term'] = y_undergrad\n",
    "ms_undergrad.to_csv(os.path.join(os.getcwd(), 'prediction_result', 'original_data', 'std_info_ms_predicted.csv'))"
   ]
  },
  {
   "cell_type": "markdown",
   "metadata": {},
   "source": [
    "------\n",
    "## 2. 전체 박사 졸업 예측"
   ]
  },
  {
   "cell_type": "code",
   "execution_count": 13,
   "metadata": {},
   "outputs": [
    {
     "name": "stdout",
     "output_type": "stream",
     "text": [
      "['f:\\\\OneDrive - 고려대학교\\\\내 드라이브\\\\고려대학교\\\\대학원\\\\장학금\\\\BK21 4단계 대학원 혁신 펠로우쉽 연구과제\\\\내외국인_공대_예측\\\\original_data\\\\std_info_grad_phd.csv', 'f:\\\\OneDrive - 고려대학교\\\\내 드라이브\\\\고려대학교\\\\대학원\\\\장학금\\\\BK21 4단계 대학원 혁신 펠로우쉽 연구과제\\\\내외국인_공대_예측\\\\original_data\\\\std_info_phd.csv']\n"
     ]
    }
   ],
   "source": [
    "total_phd_list = glob.glob(os.path.join(os.getcwd(), 'original_data', '*phd.csv'))\n",
    "print(total_phd_list)"
   ]
  },
  {
   "cell_type": "code",
   "execution_count": 14,
   "metadata": {},
   "outputs": [],
   "source": [
    "phd_grad = pd.read_csv(total_phd_list[0])\n",
    "phd_undergrad = pd.read_csv(total_phd_list[1])\n"
   ]
  },
  {
   "cell_type": "code",
   "execution_count": 15,
   "metadata": {},
   "outputs": [],
   "source": [
    "'''\n",
    "phd_grad.columns = \n",
    "['Unnamed: 0', 'Unnamed: 0.1', 'Unnamed: 0.1.1', '학번', '학생소속대학명',\n",
    "'학생교육부계열', '성별', '입학과정', '학적', '학과', '전공', '전공교수', 'rec014_nation_cd',\n",
    "'과정', '수료년도', '수료학기', 'rec014_birth_dt', '졸업년도', '졸업학기', 'gpa',\n",
    "'rec014_school_term', '서류점수', '면접점수', '학부출신', '대학원출신', '인건비총액']\n",
    "'''\n",
    "phd_grad.columns = ['Unnamed: 0', 'Unnamed: 0.1', 'Unnamed: 0.1.1', '학번', '학생소속대학명',        #학습 위해서 column name(rec014~) 변경\n",
    "'학생교육부계열', '성별', '입학과정', '학적', '학과', '전공', '전공교수', 'nation_cd',\n",
    "'과정', '수료년도', '수료학기', 'rec014_birth_dt', '졸업년도', '졸업학기', 'gpa',\n",
    "'school_term', '서류점수', '면접점수', '학부출신', '대학원출신', '인건비총액', '월별인건비']\n",
    "\n",
    "grad_cat_features = ['학생소속대학명', '학생교육부계열', '성별', '입학과정', '학과', 'nation_cd', '학부출신']    #범주형 데이터\n",
    "grad_num_features = ['gpa', '서류점수', '면접점수', '월별인건비']       #연속형 데이터\n",
    "grad_term = ['school_term']\n",
    "\n",
    "for i in grad_cat_features:\n",
    "    phd_grad[i] = phd_grad[i].astype('category')"
   ]
  },
  {
   "cell_type": "markdown",
   "metadata": {},
   "source": [
    "### 졸업자 정보에 대하여 Stratified 5-Fold 학습\n"
   ]
  },
  {
   "cell_type": "code",
   "execution_count": 16,
   "metadata": {},
   "outputs": [
    {
     "name": "stdout",
     "output_type": "stream",
     "text": [
      "Fold 0:\n",
      "               precision    recall  f1-score   support\n",
      "\n",
      "           4       0.00      0.00      0.00         3\n",
      "           5       0.12      0.08      0.10        12\n",
      "           6       0.41      0.50      0.45        18\n",
      "           7       0.27      0.32      0.29        22\n",
      "           8       0.24      0.36      0.29        22\n",
      "           9       0.12      0.14      0.13        14\n",
      "          10       0.25      0.20      0.22        15\n",
      "          11       0.00      0.00      0.00         7\n",
      "          12       0.00      0.00      0.00         4\n",
      "          13       0.00      0.00      0.00         3\n",
      "\n",
      "    accuracy                           0.25       120\n",
      "   macro avg       0.14      0.16      0.15       120\n",
      "weighted avg       0.21      0.25      0.23       120\n",
      "\n",
      "Fold 1:\n",
      "               precision    recall  f1-score   support\n",
      "\n",
      "           4       0.00      0.00      0.00         3\n",
      "           5       0.00      0.00      0.00        12\n",
      "           6       0.19      0.28      0.23        18\n",
      "           7       0.20      0.23      0.21        22\n",
      "           8       0.26      0.27      0.27        22\n",
      "           9       0.36      0.27      0.31        15\n",
      "          10       0.18      0.21      0.19        14\n",
      "          11       0.00      0.00      0.00         6\n",
      "          12       0.00      0.00      0.00         5\n",
      "          13       0.00      0.00      0.00         3\n",
      "\n",
      "    accuracy                           0.19       120\n",
      "   macro avg       0.12      0.13      0.12       120\n",
      "weighted avg       0.18      0.19      0.18       120\n",
      "\n",
      "Fold 2:\n",
      "               precision    recall  f1-score   support\n",
      "\n",
      "           4       0.00      0.00      0.00         3\n",
      "           5       0.10      0.09      0.10        11\n",
      "           6       0.23      0.28      0.25        18\n",
      "           7       0.05      0.05      0.05        22\n",
      "           8       0.21      0.23      0.22        22\n",
      "           9       0.12      0.13      0.13        15\n",
      "          10       0.26      0.33      0.29        15\n",
      "          11       0.00      0.00      0.00         6\n",
      "          12       0.00      0.00      0.00         5\n",
      "          13       0.00      0.00      0.00         2\n",
      "\n",
      "    accuracy                           0.16       119\n",
      "   macro avg       0.10      0.11      0.10       119\n",
      "weighted avg       0.14      0.16      0.15       119\n",
      "\n",
      "Fold 3:\n",
      "               precision    recall  f1-score   support\n",
      "\n",
      "           4       0.00      0.00      0.00         3\n",
      "           5       0.20      0.09      0.13        11\n",
      "           6       0.19      0.26      0.22        19\n",
      "           7       0.12      0.14      0.12        22\n",
      "           8       0.14      0.18      0.16        22\n",
      "           9       0.00      0.00      0.00        14\n",
      "          10       0.36      0.33      0.34        15\n",
      "          11       0.25      0.17      0.20         6\n",
      "          12       0.00      0.00      0.00         5\n",
      "          13       0.00      0.00      0.00         2\n",
      "\n",
      "    accuracy                           0.16       119\n",
      "   macro avg       0.13      0.12      0.12       119\n",
      "weighted avg       0.15      0.16      0.15       119\n",
      "\n",
      "Fold 4:\n",
      "               precision    recall  f1-score   support\n",
      "\n",
      "           4       0.50      0.50      0.50         2\n",
      "           5       0.11      0.08      0.10        12\n",
      "           6       0.28      0.37      0.32        19\n",
      "           7       0.20      0.24      0.22        21\n",
      "           8       0.23      0.27      0.25        22\n",
      "           9       0.11      0.14      0.12        14\n",
      "          10       0.12      0.07      0.09        15\n",
      "          11       0.00      0.00      0.00         7\n",
      "          12       0.00      0.00      0.00         5\n",
      "          13       0.00      0.00      0.00         2\n",
      "\n",
      "    accuracy                           0.19       119\n",
      "   macro avg       0.16      0.17      0.16       119\n",
      "weighted avg       0.17      0.19      0.18       119\n",
      "\n",
      "masters cross validation result :  [0.25, 0.19166666666666668, 0.15966386554621848, 0.15966386554621848, 0.19327731092436976]\n"
     ]
    }
   ],
   "source": [
    "model = lightgbm.LGBMClassifier()\n",
    "skfold = StratifiedKFold(n_splits=5)\n",
    "\n",
    "cv_accuracy = []\n",
    "\n",
    "# X_grad = phd_grad[grad_cat_features + grad_num_features]\n",
    "# y_grad = phd_grad[grad_term]\n",
    "\n",
    "X_grad = phd_grad[grad_cat_features + grad_num_features]\n",
    "y_grad = phd_grad[grad_term]\n",
    "y_grad = y_grad[y_grad['school_term'] != 0]\n",
    "X_grad = X_grad.iloc[y_grad.index]\n",
    "X_grad.iloc[:,-1] = X_grad.iloc[:,-1].astype(float).round(0)\n",
    "\n",
    "iter = 0\n",
    "for train_idx, test_idx in skfold.split(X_grad, y_grad):\n",
    "    # print(X_grad.iloc[train_idx])\n",
    "    # print(y_grad.iloc[test_idx])\n",
    "    model.fit(X_grad.iloc[train_idx], y_grad.iloc[train_idx].values.ravel())\n",
    "    pred = model.predict(X_grad.iloc[test_idx])\n",
    "    cv_accuracy.append(accuracy_score(y_grad.iloc[test_idx], pred))\n",
    "    print(f\"Fold {iter}:\\n\",classification_report(y_grad.iloc[test_idx], pred, zero_division=0))\n",
    "    iter += 1\n",
    "\n",
    "print(\"masters cross validation result : \", cv_accuracy)"
   ]
  },
  {
   "cell_type": "markdown",
   "metadata": {},
   "source": [
    "### 재학자에 대한 예측"
   ]
  },
  {
   "cell_type": "code",
   "execution_count": 17,
   "metadata": {},
   "outputs": [],
   "source": [
    "'''\n",
    "phd_undergrad.columns = \n",
    "['Unnamed: 0', 'Unnamed: 0.1', 'Unnamed: 0.1.1', '학번', '학생소속대학명',\n",
    "       '학생교육부계열', '성별', '입학과정', '학적', '학과', '전공', '전공교수', 'rec012_nation_cd',\n",
    "       '과정', '수료년도', '수료학기', 'rec012_birth_dt', 'gpa', 'rec012_school_term',\n",
    "       '서류점수', '면접점수', '학부출신', '대학원출신', '인건비총액']\n",
    "'''\n",
    "phd_undergrad.columns = ['Unnamed: 0', 'Unnamed: 0.1', 'Unnamed: 0.1.1', '학번', '학생소속대학명',\n",
    "       '학생교육부계열', '성별', '입학과정', '학적', '학과', '전공', '전공교수', 'nation_cd',\n",
    "       '과정', '수료년도', '수료학기', 'rec012_birth_dt', 'gpa', 'school_term',\n",
    "       '서류점수', '면접점수', '학부출신', '대학원출신', '인건비총액', '월별인건비']\n",
    "\n",
    "undergrad_cat_features = ['학생소속대학명', '학생교육부계열', '성별', '입학과정', '학과', 'nation_cd', '학부출신']    #범주형 데이터\n",
    "undergrad_num_features = ['gpa', '서류점수', '면접점수', '월별인건비']       #연속형 데이터\n",
    "undergrad_term = ['school_term']\n",
    "\n",
    "for i in undergrad_cat_features:\n",
    "    phd_undergrad[i] = phd_undergrad[i].astype('category')\n",
    "\n",
    "X_undergrad = phd_undergrad[undergrad_cat_features + undergrad_num_features]\n",
    "\n",
    "y_undergrad = pd.DataFrame(model.predict(X_undergrad))"
   ]
  },
  {
   "cell_type": "code",
   "execution_count": 18,
   "metadata": {},
   "outputs": [],
   "source": [
    "phd_undergrad['predicted_school_term'] = y_undergrad\n",
    "phd_undergrad.to_csv(os.path.join(os.getcwd(), 'prediction_result', 'original_data', 'std_info_phd_predicted.csv'))"
   ]
  },
  {
   "cell_type": "markdown",
   "metadata": {},
   "source": [
    "------\n",
    "## 3. 전체 석박통합 졸업 예측"
   ]
  },
  {
   "cell_type": "code",
   "execution_count": 19,
   "metadata": {},
   "outputs": [
    {
     "name": "stdout",
     "output_type": "stream",
     "text": [
      "['f:\\\\OneDrive - 고려대학교\\\\내 드라이브\\\\고려대학교\\\\대학원\\\\장학금\\\\BK21 4단계 대학원 혁신 펠로우쉽 연구과제\\\\내외국인_공대_예측\\\\original_data\\\\std_info_combined.csv', 'f:\\\\OneDrive - 고려대학교\\\\내 드라이브\\\\고려대학교\\\\대학원\\\\장학금\\\\BK21 4단계 대학원 혁신 펠로우쉽 연구과제\\\\내외국인_공대_예측\\\\original_data\\\\std_info_grad_combined.csv']\n"
     ]
    }
   ],
   "source": [
    "total_combined_list = glob.glob(os.path.join(os.getcwd(), 'original_data', '*combined.csv'))\n",
    "print(total_combined_list)"
   ]
  },
  {
   "cell_type": "code",
   "execution_count": 20,
   "metadata": {},
   "outputs": [],
   "source": [
    "combined_grad = pd.read_csv(total_combined_list[1])\n",
    "combined_undergrad = pd.read_csv(total_combined_list[0])\n"
   ]
  },
  {
   "cell_type": "code",
   "execution_count": 21,
   "metadata": {},
   "outputs": [],
   "source": [
    "'''\n",
    "combined_grad.columns = \n",
    "['Unnamed: 0', 'Unnamed: 0.1', 'Unnamed: 0.1.1', '학번', '학생소속대학명',\n",
    "       '학생교육부계열', '성별', '입학과정', '학적', '학과', '전공', '전공교수', 'rec014_nation_cd',\n",
    "       '과정', '수료년도', '수료학기', 'rec014_birth_dt', '졸업년도', '졸업학기', 'gpa',\n",
    "       'rec014_school_term', '인건비총액', '서류점수', '면접점수', '학부출신', '대학원출신']\n",
    "'''\n",
    "combined_grad.columns = ['Unnamed: 0', 'Unnamed: 0.1', 'Unnamed: 0.1.1', '학번', '학생소속대학명',              #학습 위해서 column name(rec014~) 변경\n",
    "       '학생교육부계열', '성별', '입학과정', '학적', '학과', '전공', '전공교수', 'nation_cd',\n",
    "       '과정', '수료년도', '수료학기', 'rec014_birth_dt', '졸업년도', '졸업학기', 'gpa',\n",
    "       'school_term', '인건비총액', '서류점수', '면접점수', '학부출신', '대학원출신', '월별인건비']\n",
    "\n",
    "grad_cat_features = ['학생소속대학명', '학생교육부계열', '성별', '입학과정', '학과', 'nation_cd', '학부출신']    #범주형 데이터\n",
    "grad_num_features = ['gpa', '서류점수', '면접점수', '월별인건비']       #연속형 데이터\n",
    "grad_term = ['school_term']\n",
    "\n",
    "for i in grad_cat_features:\n",
    "    combined_grad[i] = combined_grad[i].astype('category')"
   ]
  },
  {
   "cell_type": "markdown",
   "metadata": {},
   "source": [
    "### 졸업자 정보에 대하여 Stratified 5-Fold 학습\n"
   ]
  },
  {
   "cell_type": "code",
   "execution_count": 22,
   "metadata": {},
   "outputs": [
    {
     "name": "stdout",
     "output_type": "stream",
     "text": [
      "Fold 0:\n",
      "               precision    recall  f1-score   support\n",
      "\n",
      "           6       0.00      0.00      0.00         1\n",
      "           7       0.00      0.00      0.00         2\n",
      "           8       0.00      0.00      0.00         4\n",
      "           9       0.29      0.33      0.31         6\n",
      "          10       0.18      0.29      0.22         7\n",
      "          11       0.25      0.14      0.18         7\n",
      "          12       0.30      0.33      0.32         9\n",
      "          13       0.00      0.00      0.00         5\n",
      "\n",
      "    accuracy                           0.20        41\n",
      "   macro avg       0.13      0.14      0.13        41\n",
      "weighted avg       0.18      0.20      0.18        41\n",
      "\n",
      "Fold 1:\n",
      "               precision    recall  f1-score   support\n",
      "\n",
      "           6       0.00      0.00      0.00         1\n",
      "           7       0.00      0.00      0.00         1\n",
      "           8       0.00      0.00      0.00         4\n",
      "           9       0.20      0.17      0.18         6\n",
      "          10       0.00      0.00      0.00         8\n",
      "          11       0.11      0.14      0.12         7\n",
      "          12       0.00      0.00      0.00         9\n",
      "          13       0.10      0.25      0.14         4\n",
      "\n",
      "    accuracy                           0.07        40\n",
      "   macro avg       0.05      0.07      0.06        40\n",
      "weighted avg       0.06      0.07      0.06        40\n",
      "\n",
      "Fold 2:\n",
      "               precision    recall  f1-score   support\n",
      "\n",
      "           6       0.00      0.00      0.00         1\n",
      "           7       0.50      1.00      0.67         1\n",
      "           8       0.20      0.25      0.22         4\n",
      "           9       0.17      0.14      0.15         7\n",
      "          10       0.29      0.29      0.29         7\n",
      "          11       0.00      0.00      0.00         7\n",
      "          12       0.10      0.11      0.11         9\n",
      "          13       0.00      0.00      0.00         4\n",
      "\n",
      "    accuracy                           0.15        40\n",
      "   macro avg       0.16      0.22      0.18        40\n",
      "weighted avg       0.13      0.15      0.14        40\n",
      "\n",
      "Fold 3:\n",
      "               precision    recall  f1-score   support\n",
      "\n",
      "           6       0.50      1.00      0.67         1\n",
      "           7       0.00      0.00      0.00         1\n",
      "           8       0.14      0.25      0.18         4\n",
      "           9       0.40      0.33      0.36         6\n",
      "          10       0.17      0.14      0.15         7\n",
      "          11       0.00      0.00      0.00         8\n",
      "          12       0.29      0.22      0.25         9\n",
      "          13       0.00      0.00      0.00         4\n",
      "\n",
      "    accuracy                           0.17        40\n",
      "   macro avg       0.19      0.24      0.20        40\n",
      "weighted avg       0.18      0.17      0.17        40\n",
      "\n",
      "Fold 4:\n",
      "               precision    recall  f1-score   support\n",
      "\n",
      "           6       0.00      0.00      0.00         1\n",
      "           7       0.00      0.00      0.00         2\n",
      "           8       0.33      0.33      0.33         3\n",
      "           9       0.40      0.33      0.36         6\n",
      "          10       0.12      0.14      0.13         7\n",
      "          11       0.15      0.29      0.20         7\n",
      "          12       0.11      0.11      0.11         9\n",
      "          13       0.00      0.00      0.00         5\n",
      "\n",
      "    accuracy                           0.17        40\n",
      "   macro avg       0.14      0.15      0.14        40\n",
      "weighted avg       0.16      0.17      0.16        40\n",
      "\n",
      "masters cross validation result :  [0.1951219512195122, 0.075, 0.15, 0.175, 0.175]\n"
     ]
    }
   ],
   "source": [
    "model = lightgbm.LGBMClassifier()\n",
    "skfold = StratifiedKFold(n_splits=5)\n",
    "\n",
    "cv_accuracy = []\n",
    "\n",
    "# X_grad = combined_grad[grad_cat_features + grad_num_features]\n",
    "# y_grad = combined_grad[grad_term]\n",
    "\n",
    "X_grad = combined_grad[grad_cat_features + grad_num_features]\n",
    "y_grad = combined_grad[grad_term]\n",
    "y_grad = y_grad[y_grad['school_term'] != 0]\n",
    "X_grad = X_grad.iloc[y_grad.index]\n",
    "X_grad.iloc[:,-1] = X_grad.iloc[:,-1].astype(float).round(0)\n",
    "\n",
    "iter = 0\n",
    "for train_idx, test_idx in skfold.split(X_grad, y_grad):\n",
    "    # print(X_grad.iloc[train_idx])\n",
    "    # print(y_grad.iloc[test_idx])\n",
    "    model.fit(X_grad.iloc[train_idx], y_grad.iloc[train_idx].values.ravel())\n",
    "    pred = model.predict(X_grad.iloc[test_idx])\n",
    "    cv_accuracy.append(accuracy_score(y_grad.iloc[test_idx], pred))\n",
    "    print(f\"Fold {iter}:\\n\",classification_report(y_grad.iloc[test_idx], pred, zero_division=0))\n",
    "    iter += 1\n",
    "\n",
    "print(\"masters cross validation result : \", cv_accuracy)"
   ]
  },
  {
   "cell_type": "markdown",
   "metadata": {},
   "source": [
    "### 재학자에 대한 예측"
   ]
  },
  {
   "cell_type": "code",
   "execution_count": 23,
   "metadata": {},
   "outputs": [],
   "source": [
    "'''\n",
    "combined_undergrad.columns = \n",
    "['Unnamed: 0', 'Unnamed: 0.1', 'Unnamed: 0.1.1', '학번', '학생소속대학명',\n",
    "       '학생교육부계열', '성별', '입학과정', '학적', '학과', '전공', '전공교수', 'rec012_nation_cd',\n",
    "       '과정', '수료년도', '수료학기', 'rec012_birth_dt', 'gpa', 'rec012_school_term',\n",
    "       '인건비총액', '서류점수', '면접점수', '학부출신', '대학원출신']\n",
    "'''\n",
    "combined_undergrad.columns = ['Unnamed: 0', 'Unnamed: 0.1', 'Unnamed: 0.1.1', '학번', '학생소속대학명',\n",
    "       '학생교육부계열', '성별', '입학과정', '학적', '학과', '전공', '전공교수', 'nation_cd',\n",
    "       '과정', '수료년도', '수료학기', 'rec012_birth_dt', 'gpa', 'school_term',\n",
    "       '인건비총액', '서류점수', '면접점수', '학부출신', '대학원출신', '월별인건비']\n",
    "\n",
    "undergrad_cat_features = ['학생소속대학명', '학생교육부계열', '성별', '입학과정', '학과', 'nation_cd', '학부출신']    #범주형 데이터\n",
    "undergrad_num_features = ['gpa', '서류점수', '면접점수', '월별인건비']       #연속형 데이터\n",
    "undergrad_term = ['school_term']\n",
    "\n",
    "for i in undergrad_cat_features:\n",
    "    combined_undergrad[i] = combined_undergrad[i].astype('category')\n",
    "\n",
    "X_undergrad = combined_undergrad[undergrad_cat_features + undergrad_num_features]\n",
    "\n",
    "y_undergrad = pd.DataFrame(model.predict(X_undergrad))"
   ]
  },
  {
   "cell_type": "code",
   "execution_count": 24,
   "metadata": {},
   "outputs": [],
   "source": [
    "combined_undergrad['predicted_school_term'] = y_undergrad\n",
    "combined_undergrad.to_csv(os.path.join(os.getcwd(), 'prediction_result', 'original_data', 'std_info_combined_predicted.csv'))"
   ]
  },
  {
   "cell_type": "markdown",
   "metadata": {},
   "source": [
    "------\n",
    "------\n",
    "## 1. 공학계열 석사 졸업 예측"
   ]
  },
  {
   "cell_type": "code",
   "execution_count": 25,
   "metadata": {},
   "outputs": [
    {
     "name": "stdout",
     "output_type": "stream",
     "text": [
      "['f:\\\\OneDrive - 고려대학교\\\\내 드라이브\\\\고려대학교\\\\대학원\\\\장학금\\\\BK21 4단계 대학원 혁신 펠로우쉽 연구과제\\\\내외국인_공대_예측\\\\eng_data\\\\std_info_grad_ms_eng.csv', 'f:\\\\OneDrive - 고려대학교\\\\내 드라이브\\\\고려대학교\\\\대학원\\\\장학금\\\\BK21 4단계 대학원 혁신 펠로우쉽 연구과제\\\\내외국인_공대_예측\\\\eng_data\\\\std_info_ms_eng.csv']\n"
     ]
    }
   ],
   "source": [
    "total_ms_list = glob.glob(os.path.join(os.getcwd(), 'eng_data', '*ms_eng.csv'))\n",
    "print(total_ms_list)"
   ]
  },
  {
   "cell_type": "code",
   "execution_count": 26,
   "metadata": {},
   "outputs": [],
   "source": [
    "ms_grad = pd.read_csv(total_ms_list[0])\n",
    "ms_undergrad = pd.read_csv(total_ms_list[1])\n"
   ]
  },
  {
   "cell_type": "code",
   "execution_count": 27,
   "metadata": {},
   "outputs": [],
   "source": [
    "'''\n",
    "ms_grad.columns = \n",
    "['Unnamed: 0', 'Unnamed: 0.1', 'Unnamed: 0.1.1', '학번', '학생소속대학명',\n",
    "'학생교육부계열', '성별', '입학과정', '학적', '학과', '전공', '전공교수', 'rec014_nation_cd',\n",
    "'과정', '수료년도', '수료학기', 'rec014_birth_dt', '졸업년도', '졸업학기', 'gpa',\n",
    "'rec014_school_term', '서류점수', '면접점수', '학부출신', '대학원출신', '인건비총액']\n",
    "'''\n",
    "ms_grad.columns = ['Unnamed: 0', 'Unnamed: 0.1', 'Unnamed: 0.1.1', '학번', '학생소속대학명',        #학습 위해서 column name(rec014~) 변경\n",
    "'학생교육부계열', '성별', '입학과정', '학적', '학과', '전공', '전공교수', 'nation_cd',\n",
    "'과정', '수료년도', '수료학기', 'rec014_birth_dt', '졸업년도', '졸업학기', 'gpa',\n",
    "'school_term', '서류점수', '면접점수', '학부출신', '대학원출신', '인건비총액', '월별인건비']\n",
    "\n",
    "grad_cat_features = ['학생소속대학명', '학생교육부계열', '성별', '입학과정', '학과', 'nation_cd', '학부출신']    #범주형 데이터\n",
    "grad_num_features = ['gpa', '서류점수', '면접점수', '월별인건비']       #연속형 데이터\n",
    "grad_term = ['school_term']\n",
    "\n",
    "for i in grad_cat_features:\n",
    "    ms_grad[i] = ms_grad[i].astype('category')"
   ]
  },
  {
   "cell_type": "markdown",
   "metadata": {},
   "source": [
    "### 졸업자 정보에 대하여 Stratified 5-Fold 학습\n"
   ]
  },
  {
   "cell_type": "code",
   "execution_count": 28,
   "metadata": {},
   "outputs": [
    {
     "name": "stderr",
     "output_type": "stream",
     "text": [
      "C:\\Users\\djkim\\anaconda3\\envs\\pytorch\\lib\\site-packages\\sklearn\\model_selection\\_split.py:676: UserWarning: The least populated class in y has only 3 members, which is less than n_splits=5.\n",
      "  warnings.warn(\n"
     ]
    },
    {
     "name": "stdout",
     "output_type": "stream",
     "text": [
      "Fold 0:\n",
      "               precision    recall  f1-score   support\n",
      "\n",
      "           4       0.97      1.00      0.99       289\n",
      "           5       0.00      0.00      0.00         6\n",
      "           6       0.00      0.00      0.00         1\n",
      "           7       0.00      0.00      0.00         1\n",
      "\n",
      "    accuracy                           0.97       297\n",
      "   macro avg       0.24      0.25      0.25       297\n",
      "weighted avg       0.95      0.97      0.96       297\n",
      "\n",
      "Fold 1:\n",
      "               precision    recall  f1-score   support\n",
      "\n",
      "           4       0.97      1.00      0.99       289\n",
      "           5       0.00      0.00      0.00         6\n",
      "           6       0.00      0.00      0.00         1\n",
      "           7       0.00      0.00      0.00         1\n",
      "\n",
      "    accuracy                           0.97       297\n",
      "   macro avg       0.24      0.25      0.25       297\n",
      "weighted avg       0.95      0.97      0.96       297\n",
      "\n",
      "Fold 2:\n",
      "               precision    recall  f1-score   support\n",
      "\n",
      "           3       0.00      0.00      0.00         1\n",
      "           4       0.97      1.00      0.98       288\n",
      "           5       0.00      0.00      0.00         6\n",
      "           6       0.00      0.00      0.00         2\n",
      "\n",
      "    accuracy                           0.97       297\n",
      "   macro avg       0.24      0.25      0.25       297\n",
      "weighted avg       0.94      0.97      0.95       297\n",
      "\n",
      "Fold 3:\n",
      "               precision    recall  f1-score   support\n",
      "\n",
      "           3       0.00      0.00      0.00         1\n",
      "           4       0.97      1.00      0.98       288\n",
      "           5       0.00      0.00      0.00         6\n",
      "           6       0.00      0.00      0.00         2\n",
      "\n",
      "    accuracy                           0.97       297\n",
      "   macro avg       0.24      0.25      0.25       297\n",
      "weighted avg       0.94      0.97      0.95       297\n",
      "\n",
      "Fold 4:\n",
      "               precision    recall  f1-score   support\n",
      "\n",
      "           3       0.00      0.00      0.00         1\n",
      "           4       0.97      0.99      0.98       288\n",
      "           5       0.00      0.00      0.00         5\n",
      "           6       0.00      0.00      0.00         1\n",
      "           7       0.00      0.00      0.00         1\n",
      "\n",
      "    accuracy                           0.96       296\n",
      "   macro avg       0.19      0.20      0.20       296\n",
      "weighted avg       0.95      0.96      0.95       296\n",
      "\n",
      "masters cross validation result :  [0.9730639730639731, 0.9730639730639731, 0.9696969696969697, 0.9663299663299664, 0.9628378378378378]\n"
     ]
    }
   ],
   "source": [
    "model = lightgbm.LGBMClassifier()\n",
    "skfold = StratifiedKFold(n_splits=5)\n",
    "\n",
    "cv_accuracy = []\n",
    "\n",
    "# X_grad = ms_grad[grad_cat_features + grad_num_features]\n",
    "# y_grad = ms_grad[grad_term]\n",
    "\n",
    "X_grad = ms_grad[grad_cat_features + grad_num_features]\n",
    "y_grad = ms_grad[grad_term]\n",
    "y_grad = y_grad[y_grad['school_term'] != 0]\n",
    "X_grad = X_grad.iloc[y_grad.index]\n",
    "X_grad.iloc[:,-1] = X_grad.iloc[:,-1].astype(float).round(0)\n",
    "\n",
    "\n",
    "iter = 0\n",
    "for train_idx, test_idx in skfold.split(X_grad, y_grad):\n",
    "    # print(X_grad.iloc[train_idx])\n",
    "    # print(y_grad.iloc[test_idx])\n",
    "    model.fit(X_grad.iloc[train_idx], y_grad.iloc[train_idx].values.ravel())\n",
    "    pred = model.predict(X_grad.iloc[test_idx])\n",
    "    cv_accuracy.append(accuracy_score(y_grad.iloc[test_idx], pred))\n",
    "    print(f\"Fold {iter}:\\n\",classification_report(y_grad.iloc[test_idx], pred, zero_division=0))\n",
    "    iter += 1\n",
    "\n",
    "print(\"masters cross validation result : \", cv_accuracy)"
   ]
  },
  {
   "cell_type": "markdown",
   "metadata": {},
   "source": [
    "### 재학자에 대한 예측"
   ]
  },
  {
   "cell_type": "code",
   "execution_count": 29,
   "metadata": {},
   "outputs": [],
   "source": [
    "'''\n",
    "ms_undergrad.columns = \n",
    "['Unnamed: 0', 'Unnamed: 0.1', 'Unnamed: 0.1.1', '학번', '학생소속대학명',\n",
    "       '학생교육부계열', '성별', '입학과정', '학적', '학과', '전공', '전공교수', 'rec012_nation_cd',\n",
    "       '과정', '수료년도', '수료학기', 'rec012_birth_dt', 'gpa', 'rec012_school_term',\n",
    "       '인건비총액', '서류점수', '면접점수', '학부출신', '대학원출신']\n",
    "'''\n",
    "ms_undergrad.columns = ['Unnamed: 0', 'Unnamed: 0.1', 'Unnamed: 0.1.1', '학번', '학생소속대학명',\n",
    "       '학생교육부계열', '성별', '입학과정', '학적', '학과', '전공', '전공교수', 'nation_cd',\n",
    "       '과정', '수료년도', '수료학기', 'rec012_birth_dt', 'gpa', 'school_term',\n",
    "       '인건비총액', '서류점수', '면접점수', '학부출신', '대학원출신', '월별인건비']\n",
    "\n",
    "undergrad_cat_features = ['학생소속대학명', '학생교육부계열', '성별', '입학과정', '학과', 'nation_cd', '학부출신']    #범주형 데이터\n",
    "undergrad_num_features = ['gpa', '서류점수', '면접점수', '월별인건비']       #연속형 데이터\n",
    "undergrad_term = ['school_term']\n",
    "\n",
    "for i in undergrad_cat_features:\n",
    "    ms_undergrad[i] = ms_undergrad[i].astype('category')\n",
    "\n",
    "X_undergrad = ms_undergrad[undergrad_cat_features + undergrad_num_features]\n",
    "\n",
    "y_undergrad = pd.DataFrame(model.predict(X_undergrad))"
   ]
  },
  {
   "cell_type": "code",
   "execution_count": 30,
   "metadata": {},
   "outputs": [],
   "source": [
    "ms_undergrad['predicted_school_term'] = y_undergrad\n",
    "ms_undergrad.to_csv(os.path.join(os.getcwd(), 'prediction_result', 'eng_data', 'std_info_ms_eng_predicted.csv'))"
   ]
  },
  {
   "cell_type": "markdown",
   "metadata": {},
   "source": [
    "------\n",
    "## 2. 공학계열 박사 졸업 예측"
   ]
  },
  {
   "cell_type": "code",
   "execution_count": 31,
   "metadata": {},
   "outputs": [
    {
     "name": "stdout",
     "output_type": "stream",
     "text": [
      "['f:\\\\OneDrive - 고려대학교\\\\내 드라이브\\\\고려대학교\\\\대학원\\\\장학금\\\\BK21 4단계 대학원 혁신 펠로우쉽 연구과제\\\\내외국인_공대_예측\\\\eng_data\\\\std_info_grad_phd_eng.csv', 'f:\\\\OneDrive - 고려대학교\\\\내 드라이브\\\\고려대학교\\\\대학원\\\\장학금\\\\BK21 4단계 대학원 혁신 펠로우쉽 연구과제\\\\내외국인_공대_예측\\\\eng_data\\\\std_info_phd_eng.csv']\n"
     ]
    }
   ],
   "source": [
    "total_phd_list = glob.glob(os.path.join(os.getcwd(), 'eng_data', '*phd_eng.csv'))\n",
    "print(total_phd_list)"
   ]
  },
  {
   "cell_type": "code",
   "execution_count": 32,
   "metadata": {},
   "outputs": [],
   "source": [
    "phd_grad = pd.read_csv(total_phd_list[0])\n",
    "phd_undergrad = pd.read_csv(total_phd_list[1])\n"
   ]
  },
  {
   "cell_type": "code",
   "execution_count": 33,
   "metadata": {},
   "outputs": [],
   "source": [
    "'''\n",
    "phd_grad.columns = \n",
    "['Unnamed: 0', 'Unnamed: 0.1', 'Unnamed: 0.1.1', '학번', '학생소속대학명',\n",
    "'학생교육부계열', '성별', '입학과정', '학적', '학과', '전공', '전공교수', 'rec014_nation_cd',\n",
    "'과정', '수료년도', '수료학기', 'rec014_birth_dt', '졸업년도', '졸업학기', 'gpa',\n",
    "'rec014_school_term', '서류점수', '면접점수', '학부출신', '대학원출신', '인건비총액']\n",
    "'''\n",
    "phd_grad.columns = ['Unnamed: 0', 'Unnamed: 0.1', 'Unnamed: 0.1.1', '학번', '학생소속대학명',        #학습 위해서 column name(rec014~) 변경\n",
    "'학생교육부계열', '성별', '입학과정', '학적', '학과', '전공', '전공교수', 'nation_cd',\n",
    "'과정', '수료년도', '수료학기', 'rec014_birth_dt', '졸업년도', '졸업학기', 'gpa',\n",
    "'school_term', '서류점수', '면접점수', '학부출신', '대학원출신', '인건비총액', '월별인건비']\n",
    "\n",
    "grad_cat_features = ['학생소속대학명', '학생교육부계열', '성별', '입학과정', '학과', 'nation_cd', '학부출신']    #범주형 데이터\n",
    "grad_num_features = ['gpa', '서류점수', '면접점수', '월별인건비']       #연속형 데이터\n",
    "grad_term = ['school_term']\n",
    "\n",
    "for i in grad_cat_features:\n",
    "    phd_grad[i] = phd_grad[i].astype('category')"
   ]
  },
  {
   "cell_type": "markdown",
   "metadata": {},
   "source": [
    "### 졸업자 정보에 대하여 Stratified 5-Fold 학습\n"
   ]
  },
  {
   "cell_type": "code",
   "execution_count": 34,
   "metadata": {},
   "outputs": [
    {
     "name": "stderr",
     "output_type": "stream",
     "text": [
      "C:\\Users\\djkim\\anaconda3\\envs\\pytorch\\lib\\site-packages\\sklearn\\model_selection\\_split.py:676: UserWarning: The least populated class in y has only 1 members, which is less than n_splits=5.\n",
      "  warnings.warn(\n"
     ]
    },
    {
     "name": "stdout",
     "output_type": "stream",
     "text": [
      "Fold 0:\n",
      "               precision    recall  f1-score   support\n",
      "\n",
      "           4       0.00      0.00      0.00         1\n",
      "           6       0.00      0.00      0.00         1\n",
      "           7       0.00      0.00      0.00         4\n",
      "           8       0.29      0.80      0.42         5\n",
      "           9       0.00      0.00      0.00         3\n",
      "          10       0.00      0.00      0.00         3\n",
      "          11       0.00      0.00      0.00         2\n",
      "          13       0.00      0.00      0.00         1\n",
      "\n",
      "    accuracy                           0.20        20\n",
      "   macro avg       0.04      0.10      0.05        20\n",
      "weighted avg       0.07      0.20      0.11        20\n",
      "\n",
      "Fold 1:\n",
      "               precision    recall  f1-score   support\n",
      "\n",
      "           5       0.00      0.00      0.00         1\n",
      "           6       0.00      0.00      0.00         1\n",
      "           7       0.14      0.33      0.20         3\n",
      "           8       0.00      0.00      0.00         6\n",
      "           9       0.00      0.00      0.00         3\n",
      "          10       0.00      0.00      0.00         3\n",
      "          11       0.00      0.00      0.00         1\n",
      "          12       0.00      0.00      0.00         1\n",
      "          13       0.00      0.00      0.00         1\n",
      "\n",
      "    accuracy                           0.05        20\n",
      "   macro avg       0.02      0.04      0.02        20\n",
      "weighted avg       0.02      0.05      0.03        20\n",
      "\n",
      "Fold 2:\n",
      "               precision    recall  f1-score   support\n",
      "\n",
      "           5       0.00      0.00      0.00         1\n",
      "           6       0.00      0.00      0.00         1\n",
      "           7       0.33      0.33      0.33         3\n",
      "           8       0.14      0.17      0.15         6\n",
      "           9       0.00      0.00      0.00         3\n",
      "          10       0.00      0.00      0.00         3\n",
      "          11       0.00      0.00      0.00         1\n",
      "          12       0.00      0.00      0.00         1\n",
      "\n",
      "    accuracy                           0.11        19\n",
      "   macro avg       0.06      0.06      0.06        19\n",
      "weighted avg       0.10      0.11      0.10        19\n",
      "\n",
      "Fold 3:\n",
      "               precision    recall  f1-score   support\n",
      "\n",
      "           6       0.00      0.00      0.00         2\n",
      "           7       0.00      0.00      0.00         3\n",
      "           8       0.44      0.67      0.53         6\n",
      "           9       0.00      0.00      0.00         3\n",
      "          10       0.00      0.00      0.00         3\n",
      "          11       0.00      0.00      0.00         1\n",
      "          12       0.00      0.00      0.00         1\n",
      "\n",
      "    accuracy                           0.21        19\n",
      "   macro avg       0.06      0.10      0.08        19\n",
      "weighted avg       0.14      0.21      0.17        19\n",
      "\n",
      "Fold 4:\n",
      "               precision    recall  f1-score   support\n",
      "\n",
      "           5       0.00      0.00      0.00         0\n",
      "           6       0.50      1.00      0.67         1\n",
      "           7       0.00      0.00      0.00         3\n",
      "           8       0.25      0.17      0.20         6\n",
      "           9       0.00      0.00      0.00         3\n",
      "          10       0.50      0.33      0.40         3\n",
      "          11       0.00      0.00      0.00         2\n",
      "          12       0.00      0.00      0.00         1\n",
      "          13       0.00      0.00      0.00         0\n",
      "\n",
      "    accuracy                           0.16        19\n",
      "   macro avg       0.14      0.17      0.14        19\n",
      "weighted avg       0.18      0.16      0.16        19\n",
      "\n",
      "masters cross validation result :  [0.2, 0.05, 0.10526315789473684, 0.21052631578947367, 0.15789473684210525]\n"
     ]
    }
   ],
   "source": [
    "model = lightgbm.LGBMClassifier()\n",
    "skfold = StratifiedKFold(n_splits=5)\n",
    "\n",
    "cv_accuracy = []\n",
    "\n",
    "# X_grad = phd_grad[grad_cat_features + grad_num_features]\n",
    "# y_grad = phd_grad[grad_term]\n",
    "\n",
    "X_grad = phd_grad[grad_cat_features + grad_num_features]\n",
    "y_grad = phd_grad[grad_term]\n",
    "y_grad = y_grad[y_grad['school_term'] != 0]\n",
    "X_grad = X_grad.iloc[y_grad.index]\n",
    "X_grad.iloc[:,-1] = X_grad.iloc[:,-1].astype(float).round(0)\n",
    "\n",
    "\n",
    "iter = 0\n",
    "for train_idx, test_idx in skfold.split(X_grad, y_grad):\n",
    "    # print(X_grad.iloc[train_idx])\n",
    "    # print(y_grad.iloc[test_idx])\n",
    "    model.fit(X_grad.iloc[train_idx], y_grad.iloc[train_idx].values.ravel())\n",
    "    pred = model.predict(X_grad.iloc[test_idx])\n",
    "    cv_accuracy.append(accuracy_score(y_grad.iloc[test_idx], pred))\n",
    "    print(f\"Fold {iter}:\\n\",classification_report(y_grad.iloc[test_idx], pred, zero_division=0))\n",
    "    iter += 1\n",
    "\n",
    "print(\"masters cross validation result : \", cv_accuracy)"
   ]
  },
  {
   "cell_type": "markdown",
   "metadata": {},
   "source": [
    "### 재학자에 대한 예측"
   ]
  },
  {
   "cell_type": "code",
   "execution_count": 35,
   "metadata": {},
   "outputs": [],
   "source": [
    "'''\n",
    "phd_undergrad.columns = \n",
    "['Unnamed: 0', 'Unnamed: 0.1', 'Unnamed: 0.1.1', '학번', '학생소속대학명',\n",
    "       '학생교육부계열', '성별', '입학과정', '학적', '학과', '전공', '전공교수', 'rec012_nation_cd',\n",
    "       '과정', '수료년도', '수료학기', 'rec012_birth_dt', 'gpa', 'rec012_school_term',\n",
    "       '서류점수', '면접점수', '학부출신', '대학원출신', '인건비총액']\n",
    "'''\n",
    "phd_undergrad.columns = ['Unnamed: 0', 'Unnamed: 0.1', 'Unnamed: 0.1.1', '학번', '학생소속대학명',\n",
    "       '학생교육부계열', '성별', '입학과정', '학적', '학과', '전공', '전공교수', 'nation_cd',\n",
    "       '과정', '수료년도', '수료학기', 'rec012_birth_dt', 'gpa', 'school_term',\n",
    "       '서류점수', '면접점수', '학부출신', '대학원출신', '인건비총액', '월별인건비']\n",
    "\n",
    "undergrad_cat_features = ['학생소속대학명', '학생교육부계열', '성별', '입학과정', '학과', 'nation_cd', '학부출신']    #범주형 데이터\n",
    "undergrad_num_features = ['gpa', '서류점수', '면접점수', '월별인건비']       #연속형 데이터\n",
    "undergrad_term = ['school_term']\n",
    "\n",
    "for i in undergrad_cat_features:\n",
    "    phd_undergrad[i] = phd_undergrad[i].astype('category')\n",
    "\n",
    "X_undergrad = phd_undergrad[undergrad_cat_features + undergrad_num_features]\n",
    "\n",
    "y_undergrad = pd.DataFrame(model.predict(X_undergrad))"
   ]
  },
  {
   "cell_type": "code",
   "execution_count": 36,
   "metadata": {},
   "outputs": [],
   "source": [
    "phd_undergrad['predicted_school_term'] = y_undergrad\n",
    "phd_undergrad.to_csv(os.path.join(os.getcwd(), 'prediction_result', 'eng_data', 'std_info_phd_eng_predicted.csv'))"
   ]
  },
  {
   "cell_type": "markdown",
   "metadata": {},
   "source": [
    "------\n",
    "## 3. 공학계열 석박통합 졸업 예측"
   ]
  },
  {
   "cell_type": "code",
   "execution_count": 37,
   "metadata": {},
   "outputs": [
    {
     "name": "stdout",
     "output_type": "stream",
     "text": [
      "['f:\\\\OneDrive - 고려대학교\\\\내 드라이브\\\\고려대학교\\\\대학원\\\\장학금\\\\BK21 4단계 대학원 혁신 펠로우쉽 연구과제\\\\내외국인_공대_예측\\\\eng_data\\\\std_info_combined_eng.csv', 'f:\\\\OneDrive - 고려대학교\\\\내 드라이브\\\\고려대학교\\\\대학원\\\\장학금\\\\BK21 4단계 대학원 혁신 펠로우쉽 연구과제\\\\내외국인_공대_예측\\\\eng_data\\\\std_info_grad_combined_eng.csv']\n"
     ]
    }
   ],
   "source": [
    "total_combined_list = glob.glob(os.path.join(os.getcwd(), 'eng_data', '*combined_eng.csv'))\n",
    "print(total_combined_list)"
   ]
  },
  {
   "cell_type": "code",
   "execution_count": 38,
   "metadata": {},
   "outputs": [],
   "source": [
    "combined_grad = pd.read_csv(total_combined_list[1])\n",
    "combined_undergrad = pd.read_csv(total_combined_list[0])\n"
   ]
  },
  {
   "cell_type": "code",
   "execution_count": 39,
   "metadata": {},
   "outputs": [],
   "source": [
    "'''\n",
    "combined_grad.columns = \n",
    "['Unnamed: 0', 'Unnamed: 0.1', 'Unnamed: 0.1.1', '학번', '학생소속대학명',\n",
    "       '학생교육부계열', '성별', '입학과정', '학적', '학과', '전공', '전공교수', 'rec014_nation_cd',\n",
    "       '과정', '수료년도', '수료학기', 'rec014_birth_dt', '졸업년도', '졸업학기', 'gpa',\n",
    "       'rec014_school_term', '인건비총액', '서류점수', '면접점수', '학부출신', '대학원출신']\n",
    "'''\n",
    "combined_grad.columns = ['Unnamed: 0', 'Unnamed: 0.1', 'Unnamed: 0.1.1', '학번', '학생소속대학명',              #학습 위해서 column name(rec014~) 변경\n",
    "       '학생교육부계열', '성별', '입학과정', '학적', '학과', '전공', '전공교수', 'nation_cd',\n",
    "       '과정', '수료년도', '수료학기', 'rec014_birth_dt', '졸업년도', '졸업학기', 'gpa',\n",
    "       'school_term', '인건비총액', '서류점수', '면접점수', '학부출신', '대학원출신', '월별인건비']\n",
    "\n",
    "grad_cat_features = ['학생소속대학명', '학생교육부계열', '성별', '입학과정', '학과', 'nation_cd', '학부출신']    #범주형 데이터\n",
    "grad_num_features = ['gpa', '서류점수', '면접점수', '월별인건비']       #연속형 데이터\n",
    "grad_term = ['school_term']\n",
    "\n",
    "for i in grad_cat_features:\n",
    "    combined_grad[i] = combined_grad[i].astype('category')"
   ]
  },
  {
   "cell_type": "markdown",
   "metadata": {},
   "source": [
    "### 졸업자 정보에 대하여 Stratified 5-Fold 학습\n"
   ]
  },
  {
   "cell_type": "code",
   "execution_count": 40,
   "metadata": {},
   "outputs": [
    {
     "name": "stderr",
     "output_type": "stream",
     "text": [
      "C:\\Users\\djkim\\anaconda3\\envs\\pytorch\\lib\\site-packages\\sklearn\\model_selection\\_split.py:676: UserWarning: The least populated class in y has only 1 members, which is less than n_splits=5.\n",
      "  warnings.warn(\n"
     ]
    },
    {
     "name": "stdout",
     "output_type": "stream",
     "text": [
      "Fold 0:\n",
      "               precision    recall  f1-score   support\n",
      "\n",
      "           6       0.89      1.00      0.94        16\n",
      "           7       0.00      0.00      0.00         1\n",
      "           8       0.00      0.00      0.00         1\n",
      "\n",
      "    accuracy                           0.89        18\n",
      "   macro avg       0.30      0.33      0.31        18\n",
      "weighted avg       0.79      0.89      0.84        18\n",
      "\n",
      "Fold 1:\n",
      "               precision    recall  f1-score   support\n",
      "\n",
      "           6       0.94      1.00      0.97        16\n",
      "           7       0.00      0.00      0.00         1\n",
      "           8       1.00      1.00      1.00         1\n",
      "\n",
      "    accuracy                           0.94        18\n",
      "   macro avg       0.65      0.67      0.66        18\n",
      "weighted avg       0.89      0.94      0.92        18\n",
      "\n",
      "Fold 2:\n",
      "               precision    recall  f1-score   support\n",
      "\n",
      "           6       0.89      1.00      0.94        16\n",
      "           7       0.00      0.00      0.00         1\n",
      "           8       0.00      0.00      0.00         1\n",
      "\n",
      "    accuracy                           0.89        18\n",
      "   macro avg       0.30      0.33      0.31        18\n",
      "weighted avg       0.79      0.89      0.84        18\n",
      "\n",
      "Fold 3:\n",
      "               precision    recall  f1-score   support\n",
      "\n",
      "           6       0.88      0.93      0.90        15\n",
      "           7       0.00      0.00      0.00         2\n",
      "           8       1.00      1.00      1.00         1\n",
      "\n",
      "    accuracy                           0.83        18\n",
      "   macro avg       0.62      0.64      0.63        18\n",
      "weighted avg       0.78      0.83      0.81        18\n",
      "\n",
      "Fold 4:\n",
      "               precision    recall  f1-score   support\n",
      "\n",
      "           6       0.83      1.00      0.91        15\n",
      "           7       0.00      0.00      0.00         2\n",
      "           9       0.00      0.00      0.00         1\n",
      "\n",
      "    accuracy                           0.83        18\n",
      "   macro avg       0.28      0.33      0.30        18\n",
      "weighted avg       0.69      0.83      0.76        18\n",
      "\n",
      "masters cross validation result :  [0.8888888888888888, 0.9444444444444444, 0.8888888888888888, 0.8333333333333334, 0.8333333333333334]\n"
     ]
    }
   ],
   "source": [
    "model = lightgbm.LGBMClassifier()\n",
    "skfold = StratifiedKFold(n_splits=5)\n",
    "\n",
    "cv_accuracy = []\n",
    "\n",
    "# X_grad = combined_grad[grad_cat_features + grad_num_features]\n",
    "# y_grad = combined_grad[grad_term]\n",
    "\n",
    "X_grad = combined_grad[grad_cat_features + grad_num_features]\n",
    "y_grad = combined_grad[grad_term]\n",
    "y_grad = y_grad[y_grad['school_term'] != 0]\n",
    "X_grad = X_grad.iloc[y_grad.index]\n",
    "X_grad.iloc[:,-1] = X_grad.iloc[:,-1].astype(float).round(0)\n",
    "\n",
    "iter = 0\n",
    "for train_idx, test_idx in skfold.split(X_grad, y_grad):\n",
    "    # print(X_grad.iloc[train_idx])\n",
    "    # print(y_grad.iloc[test_idx])\n",
    "    model.fit(X_grad.iloc[train_idx], y_grad.iloc[train_idx].values.ravel())\n",
    "    pred = model.predict(X_grad.iloc[test_idx])\n",
    "    cv_accuracy.append(accuracy_score(y_grad.iloc[test_idx], pred))\n",
    "    print(f\"Fold {iter}:\\n\",classification_report(y_grad.iloc[test_idx], pred, zero_division=0))\n",
    "    iter += 1\n",
    "\n",
    "print(\"masters cross validation result : \", cv_accuracy)"
   ]
  },
  {
   "cell_type": "markdown",
   "metadata": {},
   "source": [
    "### 재학자에 대한 예측"
   ]
  },
  {
   "cell_type": "code",
   "execution_count": 41,
   "metadata": {},
   "outputs": [],
   "source": [
    "'''\n",
    "combined_undergrad.columns = \n",
    "['Unnamed: 0', 'Unnamed: 0.1', 'Unnamed: 0.1.1', '학번', '학생소속대학명',\n",
    "       '학생교육부계열', '성별', '입학과정', '학적', '학과', '전공', '전공교수', 'rec012_nation_cd',\n",
    "       '과정', '수료년도', '수료학기', 'rec012_birth_dt', 'gpa', 'rec012_school_term',\n",
    "       '인건비총액', '서류점수', '면접점수', '학부출신', '대학원출신']\n",
    "'''\n",
    "combined_undergrad.columns = ['Unnamed: 0', 'Unnamed: 0.1', 'Unnamed: 0.1.1', '학번', '학생소속대학명',\n",
    "       '학생교육부계열', '성별', '입학과정', '학적', '학과', '전공', '전공교수', 'nation_cd',\n",
    "       '과정', '수료년도', '수료학기', 'rec012_birth_dt', 'gpa', 'school_term',\n",
    "       '인건비총액', '서류점수', '면접점수', '학부출신', '대학원출신', '월별인건비']\n",
    "\n",
    "undergrad_cat_features = ['학생소속대학명', '학생교육부계열', '성별', '입학과정', '학과', 'nation_cd', '학부출신']    #범주형 데이터\n",
    "undergrad_num_features = ['gpa', '서류점수', '면접점수', '월별인건비']       #연속형 데이터\n",
    "undergrad_term = ['school_term']\n",
    "\n",
    "for i in undergrad_cat_features:\n",
    "    combined_undergrad[i] = combined_undergrad[i].astype('category')\n",
    "\n",
    "X_undergrad = combined_undergrad[undergrad_cat_features + undergrad_num_features]\n",
    "\n",
    "y_undergrad = pd.DataFrame(model.predict(X_undergrad))"
   ]
  },
  {
   "cell_type": "code",
   "execution_count": 42,
   "metadata": {},
   "outputs": [],
   "source": [
    "combined_undergrad['predicted_school_term'] = y_undergrad\n",
    "combined_undergrad.to_csv(os.path.join(os.getcwd(), 'prediction_result', 'eng_data', 'std_info_combined_eng_predicted.csv'))"
   ]
  },
  {
   "cell_type": "code",
   "execution_count": null,
   "metadata": {},
   "outputs": [],
   "source": []
  }
 ],
 "metadata": {
  "interpreter": {
   "hash": "3b877b1f7a01ee3f13579b88b14e81a6c392478055cee1e0634b92db773b747d"
  },
  "kernelspec": {
   "display_name": "Python 3.7.9 64-bit ('pytorch': conda)",
   "language": "python",
   "name": "python3"
  },
  "language_info": {
   "codemirror_mode": {
    "name": "ipython",
    "version": 3
   },
   "file_extension": ".py",
   "mimetype": "text/x-python",
   "name": "python",
   "nbconvert_exporter": "python",
   "pygments_lexer": "ipython3",
   "version": "3.8.11"
  },
  "orig_nbformat": 4
 },
 "nbformat": 4,
 "nbformat_minor": 2
}
